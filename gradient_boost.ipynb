{
 "cells": [
  {
   "cell_type": "markdown",
   "metadata": {},
   "source": [
    "# Basic Idea\n",
    "这里有一个链接是我觉得讲得简单而清楚的：https://www.youtube.com/watch?v=sRktKszFmSk\n",
    "\n",
    "简单说来，包括三步：\n",
    "* 学习一个predictor/learner来预测给定的数据\n",
    "* 计算这个predictor的结果与实际数值的残差\n",
    "* 学习一个predictor来预测该残差\n",
    "\n",
    "其中，第二步和第三步会不断迭代。\n",
    "\n",
    "随着迭代的继续：\n",
    "* 整体的误差会越来越小\n",
    "* 但是模型同时也越来越复杂\n",
    "\n",
    "# 优缺点\n",
    "http://scikit-learn.org/stable/modules/ensemble.html#gradient-tree-boosting\n",
    "## 优点\n",
    "Natural handling of data of mixed type (= heterogeneous features)\n",
    "Predictive power\n",
    "Robustness to outliers in output space (via robust loss functions)\n",
    "## 缺点\n",
    "Scalability, due to the sequential nature of boosting it can hardly be parallelized.\n",
    "\n",
    "# xgboost\n",
    "\n",
    "# sklearn接口\n",
    "## 代码实现\n",
    "根据https://github.com/scikit-learn/scikit-learn/blob/master/sklearn/ensemble/gradient_boosting.py\n",
    "\n",
    "gradient_boosting的fit函数\n"
   ]
  },
  {
   "cell_type": "markdown",
   "metadata": {},
   "source": [
    "\n",
    "```python\n",
    "\n",
    "      def fit(self, X, y, sample_weight=None, monitor=None):\n",
    "        \"\"\"Fit the gradient boosting model.\n",
    "        \n",
    "```"
   ]
  },
  {
   "cell_type": "markdown",
   "metadata": {},
   "source": [
    "调用了下面的一段"
   ]
  },
  {
   "cell_type": "markdown",
   "metadata": {},
   "source": [
    "```python       \n",
    "\n",
    "            # induce regression tree on residuals\n",
    "            tree = DecisionTreeRegressor(\n",
    "                criterion='friedman_mse',\n",
    "                splitter='best',\n",
    "                max_depth=self.max_depth,\n",
    "                min_samples_split=self.min_samples_split,\n",
    "                min_samples_leaf=self.min_samples_leaf,\n",
    "                min_weight_fraction_leaf=self.min_weight_fraction_leaf,\n",
    "                max_features=self.max_features,\n",
    "                max_leaf_nodes=self.max_leaf_nodes,\n",
    "                random_state=random_state,\n",
    "                presort=self.presort)\n",
    "\n",
    "```"
   ]
  },
  {
   "cell_type": "markdown",
   "metadata": {},
   "source": [
    "也就是说，每一步其实都是为残差residuals构造了一颗回归树。"
   ]
  }
 ],
 "metadata": {
  "celltoolbar": "Raw Cell Format",
  "kernelspec": {
   "display_name": "Python 2",
   "language": "python",
   "name": "python2"
  },
  "language_info": {
   "codemirror_mode": {
    "name": "ipython",
    "version": 2
   },
   "file_extension": ".py",
   "mimetype": "text/x-python",
   "name": "python",
   "nbconvert_exporter": "python",
   "pygments_lexer": "ipython2",
   "version": "2.7.5"
  }
 },
 "nbformat": 4,
 "nbformat_minor": 0
}
