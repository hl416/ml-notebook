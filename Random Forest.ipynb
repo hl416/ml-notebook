{
 "cells": [
  {
   "cell_type": "markdown",
   "metadata": {},
   "source": [
    "# RF来做feature selection的原理是什么？\n",
    "\n",
    "* 其实，所有的森林方法可能都可以用来做feature selection。为什么呢？一种直观简单的做法是：看看每个feature在各个树中出现的情况。如果某个feature被很多树选上了，那么当然说明这个feature很重要啦。反之，也就不重要了。\n",
    "* sklearn中的importance score就是这么生成的\n",
    "\n",
    "# 实现\n",
    "\n",
    "# sklearn中的接口\n",
    "\n",
    "# 优点\n",
    "* 快。 但是为什么快呢？\n",
    "\n",
    "# 缺点"
   ]
  }
 ],
 "metadata": {
  "kernelspec": {
   "display_name": "Python 2",
   "language": "python",
   "name": "python2"
  },
  "language_info": {
   "codemirror_mode": {
    "name": "ipython",
    "version": 2
   },
   "file_extension": ".py",
   "mimetype": "text/x-python",
   "name": "python",
   "nbconvert_exporter": "python",
   "pygments_lexer": "ipython2",
   "version": "2.7.5"
  }
 },
 "nbformat": 4,
 "nbformat_minor": 0
}
