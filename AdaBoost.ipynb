{
 "cells": [
  {
   "cell_type": "markdown",
   "metadata": {},
   "source": [
    "AdaBoost在sklearn中的定义为："
   ]
  },
  {
   "cell_type": "markdown",
   "metadata": {},
   "source": [
    "```python\n",
    "class sklearn.ensemble.AdaBoostClassifier(base_estimator=None, n_estimators=50, learning_rate=1.0, algorithm='SAMME.R', random_state=None)\n",
    "\n",
    "```"
   ]
  },
  {
   "cell_type": "markdown",
   "metadata": {},
   "source": [
    "其中，base_estimator可以是任何支持weighted sampling的estimator。比如可以是Decision Dump，Decision Tree，这些官网上已经说了。应该也可以是逻辑回归之类的。如果是Decision Dump或者Logistic Regression，支持权重当然已经简单了，直接在Loss Function上加上权重就是了。但是，如果是Decision/Regression Tree呢？"
   ]
  },
  {
   "cell_type": "markdown",
   "metadata": {},
   "source": [
    "AdaBoost每次对样本拟合之后，会重新给样本赋予权值，对于在上一次结果中错误较大的样本给予更大的权重。对于Decision / Regression Tree，会采用下面的方法来权重（见scikit-learn/sklearn/ensemble/weighted_boosting.py中）。意思是根据权重，重新取样，权重越高，则在新数据中该样本出现的次数越多。"
   ]
  },
  {
   "cell_type": "markdown",
   "metadata": {},
   "source": [
    "```python\n",
    "# Weighted sampling of the training set with replacement\n",
    "cdf = sample_weight.cumsum()\n",
    "cdf /= cdf[-1]\n",
    "uniform_samples = generator.random_sample(X.shape[0])\n",
    "bootstrap_idx = cdf.searchsorted(uniform_samples, side='right')\n",
    "```"
   ]
  }
 ],
 "metadata": {
  "kernelspec": {
   "display_name": "Python 2",
   "language": "python",
   "name": "python2"
  },
  "language_info": {
   "codemirror_mode": {
    "name": "ipython",
    "version": 2
   },
   "file_extension": ".py",
   "mimetype": "text/x-python",
   "name": "python",
   "nbconvert_exporter": "python",
   "pygments_lexer": "ipython2",
   "version": "2.7.5"
  }
 },
 "nbformat": 4,
 "nbformat_minor": 0
}
