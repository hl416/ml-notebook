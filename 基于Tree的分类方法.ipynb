{
 "cells": [
  {
   "cell_type": "markdown",
   "metadata": {},
   "source": [
    "# 缺点\n",
    "## 不能处理feature之间的相关性\n",
    "比如，分类的实际影响是：如果x>y，则为1，否则为0.如果直接用基于tree的方法，x和y都是单独处理，不能覆盖这种相关性。除非人工在做feature engineering的时候生成这种feature: x-y。但是比如线性、逻辑回归的方法，方法本身就会得出来，如需要人去观察识别这种相关性。"
   ]
  }
 ],
 "metadata": {
  "kernelspec": {
   "display_name": "Python 2",
   "language": "python",
   "name": "python2"
  },
  "language_info": {
   "codemirror_mode": {
    "name": "ipython",
    "version": 2
   },
   "file_extension": ".py",
   "mimetype": "text/x-python",
   "name": "python",
   "nbconvert_exporter": "python",
   "pygments_lexer": "ipython2",
   "version": "2.7.5"
  }
 },
 "nbformat": 4,
 "nbformat_minor": 0
}
