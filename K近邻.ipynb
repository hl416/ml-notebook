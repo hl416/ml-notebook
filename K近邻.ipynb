{
 "cells": [
  {
   "cell_type": "markdown",
   "metadata": {},
   "source": [
    "## K值的选择\n",
    "K如果太小，则相当于只依据于附近的一两个点来做决策，这样很容易受到噪音的影响。同时，附近的点的影响也过大了。从另一种角度理解，这个时候模型是非常复杂的，容易过拟合。\n",
    "K如果很大，则模型相当于很简单。极限情况下，如果K与样本数相等，则所有的分类结果都会是一样的，模型就超级简单了，但是不能描述数据本身的特性了。\n",
    "\n",
    "## 实现\n",
    "最简单直接的实现就是通过线性查找，也就是遍历了。但这样效率也太低了。"
   ]
  }
 ],
 "metadata": {
  "kernelspec": {
   "display_name": "Python 2",
   "language": "python",
   "name": "python2"
  },
  "language_info": {
   "codemirror_mode": {
    "name": "ipython",
    "version": 2
   },
   "file_extension": ".py",
   "mimetype": "text/x-python",
   "name": "python",
   "nbconvert_exporter": "python",
   "pygments_lexer": "ipython2",
   "version": "2.7.5"
  }
 },
 "nbformat": 4,
 "nbformat_minor": 0
}
