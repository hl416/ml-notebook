{
 "cells": [
  {
   "cell_type": "markdown",
   "metadata": {},
   "source": [
    "# 哪些地方要做scaling，为什么\n",
    "## SVM的Kernel计算的时候\n",
    "Kernel的本质是点与点之间的相似度。如果所有的维度不在一个范围内，那么相似度岂不就是那些维度范围大的说的算。\n",
    "## 线性、逻辑回归的feature\n",
    "如果不scaling，Loss函数中维度范围大的feature权重就明显高了。"
   ]
  }
 ],
 "metadata": {
  "kernelspec": {
   "display_name": "Python 2",
   "language": "python",
   "name": "python2"
  },
  "language_info": {
   "codemirror_mode": {
    "name": "ipython",
    "version": 2
   },
   "file_extension": ".py",
   "mimetype": "text/x-python",
   "name": "python",
   "nbconvert_exporter": "python",
   "pygments_lexer": "ipython2",
   "version": "2.7.5"
  }
 },
 "nbformat": 4,
 "nbformat_minor": 0
}
